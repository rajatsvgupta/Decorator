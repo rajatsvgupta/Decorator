{
 "cells": [
  {
   "cell_type": "code",
   "execution_count": 1,
   "metadata": {},
   "outputs": [],
   "source": [
    "def decorator_funct(orignal_func):\n",
    "    def wraffer_func():\n",
    "        print(f\"wrapper executed this before {orignal_func.__name__}\")\n",
    "        return orignal_func()\n",
    "    \n",
    "    return wraffer_func\n"
   ]
  },
  {
   "cell_type": "code",
   "execution_count": 2,
   "metadata": {},
   "outputs": [],
   "source": [
    "@decorator_funct\n",
    "def display_info(name,age):\n",
    "    print(f\"display_info ran with argunents({name},{age})\")"
   ]
  },
  {
   "cell_type": "code",
   "execution_count": 3,
   "metadata": {
    "scrolled": true
   },
   "outputs": [
    {
     "ename": "TypeError",
     "evalue": "wraffer_func() takes 0 positional arguments but 2 were given",
     "output_type": "error",
     "traceback": [
      "\u001b[1;31m---------------------------------------------------------------------------\u001b[0m",
      "\u001b[1;31mTypeError\u001b[0m                                 Traceback (most recent call last)",
      "\u001b[1;32m<ipython-input-3-5908bb7fe019>\u001b[0m in \u001b[0;36m<module>\u001b[1;34m\u001b[0m\n\u001b[1;32m----> 1\u001b[1;33m \u001b[0mdisplay_info\u001b[0m\u001b[1;33m(\u001b[0m\u001b[1;34m\"Sham\"\u001b[0m\u001b[1;33m,\u001b[0m\u001b[1;36m23\u001b[0m\u001b[1;33m)\u001b[0m\u001b[1;33m\u001b[0m\u001b[1;33m\u001b[0m\u001b[0m\n\u001b[0m",
      "\u001b[1;31mTypeError\u001b[0m: wraffer_func() takes 0 positional arguments but 2 were given"
     ]
    }
   ],
   "source": [
    "display_info(\"Sham\",23)"
   ]
  },
  {
   "cell_type": "code",
   "execution_count": 4,
   "metadata": {},
   "outputs": [],
   "source": [
    "def decorator_funct(orignal_func):\n",
    "    def wraffer_func(*args,**kwargs):\n",
    "        print(f\"wrapper executed this before {orignal_func.__name__} with postion arguments{args}, and keywords {kwargs}\")\n",
    "        return orignal_func(*args,**kwargs)\n",
    "    \n",
    "    return wraffer_func\n",
    "\n"
   ]
  },
  {
   "cell_type": "code",
   "execution_count": 5,
   "metadata": {},
   "outputs": [],
   "source": [
    "@decorator_funct\n",
    "def display_info(name,age):\n",
    "    print(f\"display_info ran with argunents({name},{age})\")"
   ]
  },
  {
   "cell_type": "code",
   "execution_count": 6,
   "metadata": {},
   "outputs": [
    {
     "name": "stdout",
     "output_type": "stream",
     "text": [
      "wrapper executed this before display_info with postion arguments('Sham', 23), and keywords {}\n",
      "display_info ran with argunents(Sham,23)\n"
     ]
    }
   ],
   "source": [
    "display_info(\"Sham\",23)"
   ]
  },
  {
   "cell_type": "code",
   "execution_count": 7,
   "metadata": {},
   "outputs": [],
   "source": [
    "class decorator_class(object):\n",
    "    def __init__(self,orig_func):\n",
    "        self.orig_func=orig_func\n",
    "    def __call__(self,*args,**kwargs):\n",
    "        print(f\"call mtd executed this before {self.orig_func.__name__} with postion arguments{args}, and keywords {kwargs}\")\n",
    "        return self.orig_func(*args,**kwargs)\n",
    "        "
   ]
  },
  {
   "cell_type": "code",
   "execution_count": 8,
   "metadata": {},
   "outputs": [],
   "source": [
    "@decorator_class\n",
    "def display_info(name,age):\n",
    "    print(f\"display_info ran with argunents({name},{age})\")"
   ]
  },
  {
   "cell_type": "code",
   "execution_count": 9,
   "metadata": {},
   "outputs": [
    {
     "name": "stdout",
     "output_type": "stream",
     "text": [
      "call mtd executed this before display_info with postion arguments('Sham', 23), and keywords {}\n",
      "display_info ran with argunents(Sham,23)\n"
     ]
    }
   ],
   "source": [
    "display_info(\"Sham\",23)"
   ]
  },
  {
   "cell_type": "code",
   "execution_count": 10,
   "metadata": {},
   "outputs": [],
   "source": [
    "def decorator_funct(orignal_func):\n",
    "    def wraffer_func(*args,**kwargs):\n",
    "        print(f\"wrapper executed this before {orignal_func.__name__} with postion arguments{args}, and keywords {kwargs}\")\n",
    "        return orignal_func(*args,**kwargs)\n",
    "    \n",
    "    return wraffer_func\n",
    "\n"
   ]
  },
  {
   "cell_type": "code",
   "execution_count": 11,
   "metadata": {},
   "outputs": [],
   "source": [
    "@decorator_class\n",
    "def display_info(name,age,**kwargs):\n",
    "    print(f\"display_info ran with argunents({name},{age},{kwargs})\")"
   ]
  },
  {
   "cell_type": "code",
   "execution_count": 12,
   "metadata": {},
   "outputs": [
    {
     "name": "stdout",
     "output_type": "stream",
     "text": [
      "call mtd executed this before display_info with postion arguments('sham', 22), and keywords {'pay': 10000}\n",
      "display_info ran with argunents(sham,22,{'pay': 10000})\n"
     ]
    }
   ],
   "source": [
    "display_info(\"sham\",22,pay=10000)"
   ]
  },
  {
   "cell_type": "code",
   "execution_count": 13,
   "metadata": {},
   "outputs": [],
   "source": [
    "@decorator_class\n",
    "def display_info(name,age,**kwargs):\n",
    "    print(f\"display_info ran with argunents({name},{age},{kwargs['pay']})\")"
   ]
  },
  {
   "cell_type": "code",
   "execution_count": 14,
   "metadata": {},
   "outputs": [
    {
     "name": "stdout",
     "output_type": "stream",
     "text": [
      "call mtd executed this before display_info with postion arguments('sham', 22), and keywords {'pay': 10000}\n",
      "display_info ran with argunents(sham,22,10000)\n"
     ]
    }
   ],
   "source": [
    "display_info(\"sham\",22,pay=10000)"
   ]
  },
  {
   "cell_type": "code",
   "execution_count": null,
   "metadata": {},
   "outputs": [],
   "source": []
  }
 ],
 "metadata": {
  "kernelspec": {
   "display_name": "Python 3",
   "language": "python",
   "name": "python3"
  },
  "language_info": {
   "codemirror_mode": {
    "name": "ipython",
    "version": 3
   },
   "file_extension": ".py",
   "mimetype": "text/x-python",
   "name": "python",
   "nbconvert_exporter": "python",
   "pygments_lexer": "ipython3",
   "version": "3.8.5"
  }
 },
 "nbformat": 4,
 "nbformat_minor": 4
}
